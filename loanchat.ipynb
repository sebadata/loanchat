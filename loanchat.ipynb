{
  "nbformat": 4,
  "nbformat_minor": 0,
  "metadata": {
    "colab": {
      "provenance": [],
      "collapsed_sections": [
        "rX-p1LAFfUZX",
        "8U7FDLPV-Kfs",
        "IIb91Bj7-NIV",
        "wweiFVi4a4u-",
        "42VjeIiXbLrq",
        "caAf-EcIj8HR",
        "JYCDOg-OaYYH",
        "YXmrlqtN6x3H",
        "tzpAqNVM60wV",
        "5sfAue8UcnW8",
        "FM18jBbRaoRO"
      ],
      "gpuType": "T4"
    },
    "kernelspec": {
      "name": "python3",
      "display_name": "Python 3"
    },
    "language_info": {
      "name": "python"
    },
    "accelerator": "GPU"
  },
  "cells": [
    {
      "cell_type": "markdown",
      "source": [
        "# Requirements"
      ],
      "metadata": {
        "id": "rX-p1LAFfUZX"
      }
    },
    {
      "cell_type": "code",
      "source": [
        "!pip install openai"
      ],
      "metadata": {
        "colab": {
          "base_uri": "https://localhost:8080/"
        },
        "id": "sb2SnJyNrUiL",
        "outputId": "8bf46dd7-8dfe-4d47-caaf-387815c79211"
      },
      "execution_count": 1,
      "outputs": [
        {
          "output_type": "stream",
          "name": "stdout",
          "text": [
            "Collecting openai\n",
            "  Downloading openai-0.28.0-py3-none-any.whl (76 kB)\n",
            "\u001b[2K     \u001b[90m━━━━━━━━━━━━━━━━━━━━━━━━━━━━━━━━━━━━━━━━\u001b[0m \u001b[32m76.5/76.5 kB\u001b[0m \u001b[31m1.9 MB/s\u001b[0m eta \u001b[36m0:00:00\u001b[0m\n",
            "\u001b[?25hRequirement already satisfied: requests>=2.20 in /usr/local/lib/python3.10/dist-packages (from openai) (2.31.0)\n",
            "Requirement already satisfied: tqdm in /usr/local/lib/python3.10/dist-packages (from openai) (4.66.1)\n",
            "Requirement already satisfied: aiohttp in /usr/local/lib/python3.10/dist-packages (from openai) (3.8.5)\n",
            "Requirement already satisfied: charset-normalizer<4,>=2 in /usr/local/lib/python3.10/dist-packages (from requests>=2.20->openai) (3.2.0)\n",
            "Requirement already satisfied: idna<4,>=2.5 in /usr/local/lib/python3.10/dist-packages (from requests>=2.20->openai) (3.4)\n",
            "Requirement already satisfied: urllib3<3,>=1.21.1 in /usr/local/lib/python3.10/dist-packages (from requests>=2.20->openai) (2.0.4)\n",
            "Requirement already satisfied: certifi>=2017.4.17 in /usr/local/lib/python3.10/dist-packages (from requests>=2.20->openai) (2023.7.22)\n",
            "Requirement already satisfied: attrs>=17.3.0 in /usr/local/lib/python3.10/dist-packages (from aiohttp->openai) (23.1.0)\n",
            "Requirement already satisfied: multidict<7.0,>=4.5 in /usr/local/lib/python3.10/dist-packages (from aiohttp->openai) (6.0.4)\n",
            "Requirement already satisfied: async-timeout<5.0,>=4.0.0a3 in /usr/local/lib/python3.10/dist-packages (from aiohttp->openai) (4.0.3)\n",
            "Requirement already satisfied: yarl<2.0,>=1.0 in /usr/local/lib/python3.10/dist-packages (from aiohttp->openai) (1.9.2)\n",
            "Requirement already satisfied: frozenlist>=1.1.1 in /usr/local/lib/python3.10/dist-packages (from aiohttp->openai) (1.4.0)\n",
            "Requirement already satisfied: aiosignal>=1.1.2 in /usr/local/lib/python3.10/dist-packages (from aiohttp->openai) (1.3.1)\n",
            "Installing collected packages: openai\n",
            "Successfully installed openai-0.28.0\n"
          ]
        }
      ]
    },
    {
      "cell_type": "code",
      "source": [
        "!pip install transformers"
      ],
      "metadata": {
        "colab": {
          "base_uri": "https://localhost:8080/"
        },
        "id": "nGP9ap80EXti",
        "outputId": "8a9bcbb2-ed5e-4433-9db3-e4bd18919549"
      },
      "execution_count": 2,
      "outputs": [
        {
          "output_type": "stream",
          "name": "stdout",
          "text": [
            "Collecting transformers\n",
            "  Downloading transformers-4.33.0-py3-none-any.whl (7.6 MB)\n",
            "\u001b[2K     \u001b[90m━━━━━━━━━━━━━━━━━━━━━━━━━━━━━━━━━━━━━━━━\u001b[0m \u001b[32m7.6/7.6 MB\u001b[0m \u001b[31m51.1 MB/s\u001b[0m eta \u001b[36m0:00:00\u001b[0m\n",
            "\u001b[?25hRequirement already satisfied: filelock in /usr/local/lib/python3.10/dist-packages (from transformers) (3.12.2)\n",
            "Collecting huggingface-hub<1.0,>=0.15.1 (from transformers)\n",
            "  Downloading huggingface_hub-0.16.4-py3-none-any.whl (268 kB)\n",
            "\u001b[2K     \u001b[90m━━━━━━━━━━━━━━━━━━━━━━━━━━━━━━━━━━━━━━\u001b[0m \u001b[32m268.8/268.8 kB\u001b[0m \u001b[31m18.4 MB/s\u001b[0m eta \u001b[36m0:00:00\u001b[0m\n",
            "\u001b[?25hRequirement already satisfied: numpy>=1.17 in /usr/local/lib/python3.10/dist-packages (from transformers) (1.23.5)\n",
            "Requirement already satisfied: packaging>=20.0 in /usr/local/lib/python3.10/dist-packages (from transformers) (23.1)\n",
            "Requirement already satisfied: pyyaml>=5.1 in /usr/local/lib/python3.10/dist-packages (from transformers) (6.0.1)\n",
            "Requirement already satisfied: regex!=2019.12.17 in /usr/local/lib/python3.10/dist-packages (from transformers) (2023.6.3)\n",
            "Requirement already satisfied: requests in /usr/local/lib/python3.10/dist-packages (from transformers) (2.31.0)\n",
            "Collecting tokenizers!=0.11.3,<0.14,>=0.11.1 (from transformers)\n",
            "  Downloading tokenizers-0.13.3-cp310-cp310-manylinux_2_17_x86_64.manylinux2014_x86_64.whl (7.8 MB)\n",
            "\u001b[2K     \u001b[90m━━━━━━━━━━━━━━━━━━━━━━━━━━━━━━━━━━━━━━━━\u001b[0m \u001b[32m7.8/7.8 MB\u001b[0m \u001b[31m89.0 MB/s\u001b[0m eta \u001b[36m0:00:00\u001b[0m\n",
            "\u001b[?25hCollecting safetensors>=0.3.1 (from transformers)\n",
            "  Downloading safetensors-0.3.3-cp310-cp310-manylinux_2_17_x86_64.manylinux2014_x86_64.whl (1.3 MB)\n",
            "\u001b[2K     \u001b[90m━━━━━━━━━━━━━━━━━━━━━━━━━━━━━━━━━━━━━━━━\u001b[0m \u001b[32m1.3/1.3 MB\u001b[0m \u001b[31m79.0 MB/s\u001b[0m eta \u001b[36m0:00:00\u001b[0m\n",
            "\u001b[?25hRequirement already satisfied: tqdm>=4.27 in /usr/local/lib/python3.10/dist-packages (from transformers) (4.66.1)\n",
            "Requirement already satisfied: fsspec in /usr/local/lib/python3.10/dist-packages (from huggingface-hub<1.0,>=0.15.1->transformers) (2023.6.0)\n",
            "Requirement already satisfied: typing-extensions>=3.7.4.3 in /usr/local/lib/python3.10/dist-packages (from huggingface-hub<1.0,>=0.15.1->transformers) (4.7.1)\n",
            "Requirement already satisfied: charset-normalizer<4,>=2 in /usr/local/lib/python3.10/dist-packages (from requests->transformers) (3.2.0)\n",
            "Requirement already satisfied: idna<4,>=2.5 in /usr/local/lib/python3.10/dist-packages (from requests->transformers) (3.4)\n",
            "Requirement already satisfied: urllib3<3,>=1.21.1 in /usr/local/lib/python3.10/dist-packages (from requests->transformers) (2.0.4)\n",
            "Requirement already satisfied: certifi>=2017.4.17 in /usr/local/lib/python3.10/dist-packages (from requests->transformers) (2023.7.22)\n",
            "Installing collected packages: tokenizers, safetensors, huggingface-hub, transformers\n",
            "Successfully installed huggingface-hub-0.16.4 safetensors-0.3.3 tokenizers-0.13.3 transformers-4.33.0\n"
          ]
        }
      ]
    },
    {
      "cell_type": "code",
      "source": [
        "!pip install datasets"
      ],
      "metadata": {
        "colab": {
          "base_uri": "https://localhost:8080/"
        },
        "id": "ZHuYVYztF5yA",
        "outputId": "c87ce91d-6b46-497e-d3fd-a0cb13337c7f"
      },
      "execution_count": 3,
      "outputs": [
        {
          "output_type": "stream",
          "name": "stdout",
          "text": [
            "Collecting datasets\n",
            "  Downloading datasets-2.14.4-py3-none-any.whl (519 kB)\n",
            "\u001b[2K     \u001b[90m━━━━━━━━━━━━━━━━━━━━━━━━━━━━━━━━━━━━━━━\u001b[0m \u001b[32m519.3/519.3 kB\u001b[0m \u001b[31m5.6 MB/s\u001b[0m eta \u001b[36m0:00:00\u001b[0m\n",
            "\u001b[?25hRequirement already satisfied: numpy>=1.17 in /usr/local/lib/python3.10/dist-packages (from datasets) (1.23.5)\n",
            "Requirement already satisfied: pyarrow>=8.0.0 in /usr/local/lib/python3.10/dist-packages (from datasets) (9.0.0)\n",
            "Collecting dill<0.3.8,>=0.3.0 (from datasets)\n",
            "  Downloading dill-0.3.7-py3-none-any.whl (115 kB)\n",
            "\u001b[2K     \u001b[90m━━━━━━━━━━━━━━━━━━━━━━━━━━━━━━━━━━━━━━\u001b[0m \u001b[32m115.3/115.3 kB\u001b[0m \u001b[31m10.9 MB/s\u001b[0m eta \u001b[36m0:00:00\u001b[0m\n",
            "\u001b[?25hRequirement already satisfied: pandas in /usr/local/lib/python3.10/dist-packages (from datasets) (1.5.3)\n",
            "Requirement already satisfied: requests>=2.19.0 in /usr/local/lib/python3.10/dist-packages (from datasets) (2.31.0)\n",
            "Requirement already satisfied: tqdm>=4.62.1 in /usr/local/lib/python3.10/dist-packages (from datasets) (4.66.1)\n",
            "Collecting xxhash (from datasets)\n",
            "  Downloading xxhash-3.3.0-cp310-cp310-manylinux_2_17_x86_64.manylinux2014_x86_64.whl (194 kB)\n",
            "\u001b[2K     \u001b[90m━━━━━━━━━━━━━━━━━━━━━━━━━━━━━━━━━━━━━━━\u001b[0m \u001b[32m194.1/194.1 kB\u001b[0m \u001b[31m8.8 MB/s\u001b[0m eta \u001b[36m0:00:00\u001b[0m\n",
            "\u001b[?25hCollecting multiprocess (from datasets)\n",
            "  Downloading multiprocess-0.70.15-py310-none-any.whl (134 kB)\n",
            "\u001b[2K     \u001b[90m━━━━━━━━━━━━━━━━━━━━━━━━━━━━━━━━━━━━━━\u001b[0m \u001b[32m134.8/134.8 kB\u001b[0m \u001b[31m11.4 MB/s\u001b[0m eta \u001b[36m0:00:00\u001b[0m\n",
            "\u001b[?25hRequirement already satisfied: fsspec[http]>=2021.11.1 in /usr/local/lib/python3.10/dist-packages (from datasets) (2023.6.0)\n",
            "Requirement already satisfied: aiohttp in /usr/local/lib/python3.10/dist-packages (from datasets) (3.8.5)\n",
            "Requirement already satisfied: huggingface-hub<1.0.0,>=0.14.0 in /usr/local/lib/python3.10/dist-packages (from datasets) (0.16.4)\n",
            "Requirement already satisfied: packaging in /usr/local/lib/python3.10/dist-packages (from datasets) (23.1)\n",
            "Requirement already satisfied: pyyaml>=5.1 in /usr/local/lib/python3.10/dist-packages (from datasets) (6.0.1)\n",
            "Requirement already satisfied: attrs>=17.3.0 in /usr/local/lib/python3.10/dist-packages (from aiohttp->datasets) (23.1.0)\n",
            "Requirement already satisfied: charset-normalizer<4.0,>=2.0 in /usr/local/lib/python3.10/dist-packages (from aiohttp->datasets) (3.2.0)\n",
            "Requirement already satisfied: multidict<7.0,>=4.5 in /usr/local/lib/python3.10/dist-packages (from aiohttp->datasets) (6.0.4)\n",
            "Requirement already satisfied: async-timeout<5.0,>=4.0.0a3 in /usr/local/lib/python3.10/dist-packages (from aiohttp->datasets) (4.0.3)\n",
            "Requirement already satisfied: yarl<2.0,>=1.0 in /usr/local/lib/python3.10/dist-packages (from aiohttp->datasets) (1.9.2)\n",
            "Requirement already satisfied: frozenlist>=1.1.1 in /usr/local/lib/python3.10/dist-packages (from aiohttp->datasets) (1.4.0)\n",
            "Requirement already satisfied: aiosignal>=1.1.2 in /usr/local/lib/python3.10/dist-packages (from aiohttp->datasets) (1.3.1)\n",
            "Requirement already satisfied: filelock in /usr/local/lib/python3.10/dist-packages (from huggingface-hub<1.0.0,>=0.14.0->datasets) (3.12.2)\n",
            "Requirement already satisfied: typing-extensions>=3.7.4.3 in /usr/local/lib/python3.10/dist-packages (from huggingface-hub<1.0.0,>=0.14.0->datasets) (4.7.1)\n",
            "Requirement already satisfied: idna<4,>=2.5 in /usr/local/lib/python3.10/dist-packages (from requests>=2.19.0->datasets) (3.4)\n",
            "Requirement already satisfied: urllib3<3,>=1.21.1 in /usr/local/lib/python3.10/dist-packages (from requests>=2.19.0->datasets) (2.0.4)\n",
            "Requirement already satisfied: certifi>=2017.4.17 in /usr/local/lib/python3.10/dist-packages (from requests>=2.19.0->datasets) (2023.7.22)\n",
            "Requirement already satisfied: python-dateutil>=2.8.1 in /usr/local/lib/python3.10/dist-packages (from pandas->datasets) (2.8.2)\n",
            "Requirement already satisfied: pytz>=2020.1 in /usr/local/lib/python3.10/dist-packages (from pandas->datasets) (2023.3)\n",
            "Requirement already satisfied: six>=1.5 in /usr/local/lib/python3.10/dist-packages (from python-dateutil>=2.8.1->pandas->datasets) (1.16.0)\n",
            "Installing collected packages: xxhash, dill, multiprocess, datasets\n",
            "Successfully installed datasets-2.14.4 dill-0.3.7 multiprocess-0.70.15 xxhash-3.3.0\n"
          ]
        }
      ]
    },
    {
      "cell_type": "code",
      "source": [
        "!pip install pandas"
      ],
      "metadata": {
        "colab": {
          "base_uri": "https://localhost:8080/"
        },
        "id": "waHHRZJ7HYz_",
        "outputId": "9d6fd079-ae31-4d00-8bd3-aa9aa2a36da6"
      },
      "execution_count": 4,
      "outputs": [
        {
          "output_type": "stream",
          "name": "stdout",
          "text": [
            "Requirement already satisfied: pandas in /usr/local/lib/python3.10/dist-packages (1.5.3)\n",
            "Requirement already satisfied: python-dateutil>=2.8.1 in /usr/local/lib/python3.10/dist-packages (from pandas) (2.8.2)\n",
            "Requirement already satisfied: pytz>=2020.1 in /usr/local/lib/python3.10/dist-packages (from pandas) (2023.3)\n",
            "Requirement already satisfied: numpy>=1.21.0 in /usr/local/lib/python3.10/dist-packages (from pandas) (1.23.5)\n",
            "Requirement already satisfied: six>=1.5 in /usr/local/lib/python3.10/dist-packages (from python-dateutil>=2.8.1->pandas) (1.16.0)\n"
          ]
        }
      ]
    },
    {
      "cell_type": "code",
      "source": [
        "!pip install accelerate -U"
      ],
      "metadata": {
        "colab": {
          "base_uri": "https://localhost:8080/"
        },
        "id": "2GfL2TlMLq8A",
        "outputId": "0eea03b0-874a-4266-fc7b-58d48b504c6a"
      },
      "execution_count": 5,
      "outputs": [
        {
          "output_type": "stream",
          "name": "stdout",
          "text": [
            "Collecting accelerate\n",
            "  Downloading accelerate-0.22.0-py3-none-any.whl (251 kB)\n",
            "\u001b[2K     \u001b[90m━━━━━━━━━━━━━━━━━━━━━━━━━━━━━━━━━━━━━━━\u001b[0m \u001b[32m251.2/251.2 kB\u001b[0m \u001b[31m4.7 MB/s\u001b[0m eta \u001b[36m0:00:00\u001b[0m\n",
            "\u001b[?25hRequirement already satisfied: numpy>=1.17 in /usr/local/lib/python3.10/dist-packages (from accelerate) (1.23.5)\n",
            "Requirement already satisfied: packaging>=20.0 in /usr/local/lib/python3.10/dist-packages (from accelerate) (23.1)\n",
            "Requirement already satisfied: psutil in /usr/local/lib/python3.10/dist-packages (from accelerate) (5.9.5)\n",
            "Requirement already satisfied: pyyaml in /usr/local/lib/python3.10/dist-packages (from accelerate) (6.0.1)\n",
            "Requirement already satisfied: torch>=1.10.0 in /usr/local/lib/python3.10/dist-packages (from accelerate) (2.0.1+cu118)\n",
            "Requirement already satisfied: filelock in /usr/local/lib/python3.10/dist-packages (from torch>=1.10.0->accelerate) (3.12.2)\n",
            "Requirement already satisfied: typing-extensions in /usr/local/lib/python3.10/dist-packages (from torch>=1.10.0->accelerate) (4.7.1)\n",
            "Requirement already satisfied: sympy in /usr/local/lib/python3.10/dist-packages (from torch>=1.10.0->accelerate) (1.12)\n",
            "Requirement already satisfied: networkx in /usr/local/lib/python3.10/dist-packages (from torch>=1.10.0->accelerate) (3.1)\n",
            "Requirement already satisfied: jinja2 in /usr/local/lib/python3.10/dist-packages (from torch>=1.10.0->accelerate) (3.1.2)\n",
            "Requirement already satisfied: triton==2.0.0 in /usr/local/lib/python3.10/dist-packages (from torch>=1.10.0->accelerate) (2.0.0)\n",
            "Requirement already satisfied: cmake in /usr/local/lib/python3.10/dist-packages (from triton==2.0.0->torch>=1.10.0->accelerate) (3.27.2)\n",
            "Requirement already satisfied: lit in /usr/local/lib/python3.10/dist-packages (from triton==2.0.0->torch>=1.10.0->accelerate) (16.0.6)\n",
            "Requirement already satisfied: MarkupSafe>=2.0 in /usr/local/lib/python3.10/dist-packages (from jinja2->torch>=1.10.0->accelerate) (2.1.3)\n",
            "Requirement already satisfied: mpmath>=0.19 in /usr/local/lib/python3.10/dist-packages (from sympy->torch>=1.10.0->accelerate) (1.3.0)\n",
            "Installing collected packages: accelerate\n",
            "Successfully installed accelerate-0.22.0\n"
          ]
        }
      ]
    },
    {
      "cell_type": "code",
      "source": [
        "!pip install evaluate"
      ],
      "metadata": {
        "colab": {
          "base_uri": "https://localhost:8080/"
        },
        "id": "afgd4u9ONA7p",
        "outputId": "fd129254-c1f1-495c-d81b-1abef7de9381"
      },
      "execution_count": 6,
      "outputs": [
        {
          "output_type": "stream",
          "name": "stdout",
          "text": [
            "Collecting evaluate\n",
            "  Downloading evaluate-0.4.0-py3-none-any.whl (81 kB)\n",
            "\u001b[2K     \u001b[90m━━━━━━━━━━━━━━━━━━━━━━━━━━━━━━━━━━━━━━━━\u001b[0m \u001b[32m81.4/81.4 kB\u001b[0m \u001b[31m2.0 MB/s\u001b[0m eta \u001b[36m0:00:00\u001b[0m\n",
            "\u001b[?25hRequirement already satisfied: datasets>=2.0.0 in /usr/local/lib/python3.10/dist-packages (from evaluate) (2.14.4)\n",
            "Requirement already satisfied: numpy>=1.17 in /usr/local/lib/python3.10/dist-packages (from evaluate) (1.23.5)\n",
            "Requirement already satisfied: dill in /usr/local/lib/python3.10/dist-packages (from evaluate) (0.3.7)\n",
            "Requirement already satisfied: pandas in /usr/local/lib/python3.10/dist-packages (from evaluate) (1.5.3)\n",
            "Requirement already satisfied: requests>=2.19.0 in /usr/local/lib/python3.10/dist-packages (from evaluate) (2.31.0)\n",
            "Requirement already satisfied: tqdm>=4.62.1 in /usr/local/lib/python3.10/dist-packages (from evaluate) (4.66.1)\n",
            "Requirement already satisfied: xxhash in /usr/local/lib/python3.10/dist-packages (from evaluate) (3.3.0)\n",
            "Requirement already satisfied: multiprocess in /usr/local/lib/python3.10/dist-packages (from evaluate) (0.70.15)\n",
            "Requirement already satisfied: fsspec[http]>=2021.05.0 in /usr/local/lib/python3.10/dist-packages (from evaluate) (2023.6.0)\n",
            "Requirement already satisfied: huggingface-hub>=0.7.0 in /usr/local/lib/python3.10/dist-packages (from evaluate) (0.16.4)\n",
            "Requirement already satisfied: packaging in /usr/local/lib/python3.10/dist-packages (from evaluate) (23.1)\n",
            "Collecting responses<0.19 (from evaluate)\n",
            "  Downloading responses-0.18.0-py3-none-any.whl (38 kB)\n",
            "Requirement already satisfied: pyarrow>=8.0.0 in /usr/local/lib/python3.10/dist-packages (from datasets>=2.0.0->evaluate) (9.0.0)\n",
            "Requirement already satisfied: aiohttp in /usr/local/lib/python3.10/dist-packages (from datasets>=2.0.0->evaluate) (3.8.5)\n",
            "Requirement already satisfied: pyyaml>=5.1 in /usr/local/lib/python3.10/dist-packages (from datasets>=2.0.0->evaluate) (6.0.1)\n",
            "Requirement already satisfied: filelock in /usr/local/lib/python3.10/dist-packages (from huggingface-hub>=0.7.0->evaluate) (3.12.2)\n",
            "Requirement already satisfied: typing-extensions>=3.7.4.3 in /usr/local/lib/python3.10/dist-packages (from huggingface-hub>=0.7.0->evaluate) (4.7.1)\n",
            "Requirement already satisfied: charset-normalizer<4,>=2 in /usr/local/lib/python3.10/dist-packages (from requests>=2.19.0->evaluate) (3.2.0)\n",
            "Requirement already satisfied: idna<4,>=2.5 in /usr/local/lib/python3.10/dist-packages (from requests>=2.19.0->evaluate) (3.4)\n",
            "Requirement already satisfied: urllib3<3,>=1.21.1 in /usr/local/lib/python3.10/dist-packages (from requests>=2.19.0->evaluate) (2.0.4)\n",
            "Requirement already satisfied: certifi>=2017.4.17 in /usr/local/lib/python3.10/dist-packages (from requests>=2.19.0->evaluate) (2023.7.22)\n",
            "Requirement already satisfied: python-dateutil>=2.8.1 in /usr/local/lib/python3.10/dist-packages (from pandas->evaluate) (2.8.2)\n",
            "Requirement already satisfied: pytz>=2020.1 in /usr/local/lib/python3.10/dist-packages (from pandas->evaluate) (2023.3)\n",
            "Requirement already satisfied: attrs>=17.3.0 in /usr/local/lib/python3.10/dist-packages (from aiohttp->datasets>=2.0.0->evaluate) (23.1.0)\n",
            "Requirement already satisfied: multidict<7.0,>=4.5 in /usr/local/lib/python3.10/dist-packages (from aiohttp->datasets>=2.0.0->evaluate) (6.0.4)\n",
            "Requirement already satisfied: async-timeout<5.0,>=4.0.0a3 in /usr/local/lib/python3.10/dist-packages (from aiohttp->datasets>=2.0.0->evaluate) (4.0.3)\n",
            "Requirement already satisfied: yarl<2.0,>=1.0 in /usr/local/lib/python3.10/dist-packages (from aiohttp->datasets>=2.0.0->evaluate) (1.9.2)\n",
            "Requirement already satisfied: frozenlist>=1.1.1 in /usr/local/lib/python3.10/dist-packages (from aiohttp->datasets>=2.0.0->evaluate) (1.4.0)\n",
            "Requirement already satisfied: aiosignal>=1.1.2 in /usr/local/lib/python3.10/dist-packages (from aiohttp->datasets>=2.0.0->evaluate) (1.3.1)\n",
            "Requirement already satisfied: six>=1.5 in /usr/local/lib/python3.10/dist-packages (from python-dateutil>=2.8.1->pandas->evaluate) (1.16.0)\n",
            "Installing collected packages: responses, evaluate\n",
            "Successfully installed evaluate-0.4.0 responses-0.18.0\n"
          ]
        }
      ]
    },
    {
      "cell_type": "markdown",
      "source": [
        "# Imports"
      ],
      "metadata": {
        "id": "8U7FDLPV-Kfs"
      }
    },
    {
      "cell_type": "code",
      "source": [
        "import os\n",
        "import warnings\n",
        "import numpy as np\n",
        "import openai\n",
        "import evaluate\n",
        "from google.colab import drive\n",
        "from datasets import load_dataset, Features, Value, ClassLabel\n",
        "from transformers import (\n",
        "    AutoTokenizer,\n",
        "    AutoModelForSequenceClassification,\n",
        "    TrainingArguments,\n",
        "    Trainer,\n",
        "    pipeline,\n",
        "    TextClassificationPipeline,\n",
        ")"
      ],
      "metadata": {
        "id": "UoxXeFTgsM_q"
      },
      "execution_count": 94,
      "outputs": []
    },
    {
      "cell_type": "markdown",
      "source": [
        "# Env setup"
      ],
      "metadata": {
        "id": "IIb91Bj7-NIV"
      }
    },
    {
      "cell_type": "code",
      "source": [
        "os.environ['OPENAI_API_KEY'] = 'your-key-here'\n",
        "openai.api_key = os.getenv(\"OPENAI_API_KEY\")"
      ],
      "metadata": {
        "id": "E9290cfcrYee"
      },
      "execution_count": 8,
      "outputs": []
    },
    {
      "cell_type": "markdown",
      "source": [
        "# Text classifier"
      ],
      "metadata": {
        "id": "3mS8wfpKElv5"
      }
    },
    {
      "cell_type": "markdown",
      "source": [
        "## Load and fine-tune BERT"
      ],
      "metadata": {
        "id": "wweiFVi4a4u-"
      }
    },
    {
      "cell_type": "code",
      "source": [
        "warnings.filterwarnings('ignore')"
      ],
      "metadata": {
        "id": "ZNe1ZtiASqI9"
      },
      "execution_count": 176,
      "outputs": []
    },
    {
      "cell_type": "code",
      "source": [
        "drive.mount('/content/drive', force_remount=True)\n",
        "features = Features({\"text\":Value('string'), \"label\":ClassLabel(names=['TRUE', 'FALSE'])})\n",
        "dataset = load_dataset(\n",
        "    \"csv\",\n",
        "    data_files=\"/content/drive/MyDrive/challenge/HalQuestions_StatusOnly_Test.csv\",\n",
        "    sep=\",\",\n",
        "    names=[\"text\", \"label\"],\n",
        "    features=features,\n",
        ")"
      ],
      "metadata": {
        "colab": {
          "base_uri": "https://localhost:8080/"
        },
        "id": "uMLKLne7OpSp",
        "outputId": "22a70e16-ac4a-4ad8-ec6c-15912a7fbb96"
      },
      "execution_count": 167,
      "outputs": [
        {
          "output_type": "stream",
          "name": "stdout",
          "text": [
            "Mounted at /content/drive\n"
          ]
        }
      ]
    },
    {
      "cell_type": "code",
      "source": [
        "tokenizer = AutoTokenizer.from_pretrained(\"bert-base-cased\")\n",
        "\n",
        "def tokenize_function(examples):\n",
        "    return tokenizer(examples['text'], padding=\"max_length\", truncation=True)\n",
        "\n",
        "tokenized_datasets = dataset.map(tokenize_function, batched=True)"
      ],
      "metadata": {
        "id": "HPXUq1zYHTjr"
      },
      "execution_count": 168,
      "outputs": []
    },
    {
      "cell_type": "code",
      "source": [
        "model = AutoModelForSequenceClassification.from_pretrained(\n",
        "    \"bert-base-cased\",\n",
        "    num_labels=2,\n",
        ")"
      ],
      "metadata": {
        "colab": {
          "base_uri": "https://localhost:8080/"
        },
        "id": "HNrv3RsUK7dO",
        "outputId": "e0c64b05-332d-4f34-cf5c-cd7a494d6105"
      },
      "execution_count": 169,
      "outputs": [
        {
          "output_type": "stream",
          "name": "stderr",
          "text": [
            "Some weights of BertForSequenceClassification were not initialized from the model checkpoint at bert-base-cased and are newly initialized: ['classifier.bias', 'classifier.weight']\n",
            "You should probably TRAIN this model on a down-stream task to be able to use it for predictions and inference.\n"
          ]
        }
      ]
    },
    {
      "cell_type": "code",
      "source": [
        "metric = evaluate.load(\"roc_auc\")\n",
        "\n",
        "def compute_metrics(eval_pred):\n",
        "    logits, labels = eval_pred\n",
        "    scores = np.max(logits, axis=-1)\n",
        "    return metric.compute(prediction_scores=scores, references=labels)"
      ],
      "metadata": {
        "id": "7hHf_9_MNLNN"
      },
      "execution_count": 170,
      "outputs": []
    },
    {
      "cell_type": "code",
      "source": [
        "train_test_ds = tokenized_datasets['train'].train_test_split(test_size=0.2)"
      ],
      "metadata": {
        "id": "RCBb2bvsQB9U"
      },
      "execution_count": 171,
      "outputs": []
    },
    {
      "cell_type": "code",
      "source": [
        "training_args = TrainingArguments(\n",
        "    output_dir=\"test_trainer\",\n",
        "    evaluation_strategy=\"epoch\",\n",
        "    num_train_epochs=5,\n",
        ")"
      ],
      "metadata": {
        "id": "K4Oy_3q3NOV2"
      },
      "execution_count": 172,
      "outputs": []
    },
    {
      "cell_type": "code",
      "source": [
        "trainer = Trainer(\n",
        "    model=model,\n",
        "    args=training_args,\n",
        "    train_dataset=train_test_ds['train'],\n",
        "    eval_dataset=train_test_ds['test'],\n",
        "    compute_metrics=compute_metrics,\n",
        ")"
      ],
      "metadata": {
        "id": "fpz4j-PXQ2Qd"
      },
      "execution_count": 173,
      "outputs": []
    },
    {
      "cell_type": "markdown",
      "source": [
        "Evaluate the base model (that is, before fine-tuning):"
      ],
      "metadata": {
        "id": "HshPOipWSRbj"
      }
    },
    {
      "cell_type": "code",
      "source": [
        "trainer.evaluate()"
      ],
      "metadata": {
        "colab": {
          "base_uri": "https://localhost:8080/",
          "height": 124
        },
        "id": "mQrnUZ8SNeKn",
        "outputId": "0b1b0003-9e97-42bf-9d1a-99ce026ef297"
      },
      "execution_count": 174,
      "outputs": [
        {
          "output_type": "display_data",
          "data": {
            "text/plain": [
              "<IPython.core.display.HTML object>"
            ],
            "text/html": [
              "\n",
              "    <div>\n",
              "      \n",
              "      <progress value='27' max='27' style='width:300px; height:20px; vertical-align: middle;'></progress>\n",
              "      [27/27 00:07]\n",
              "    </div>\n",
              "    "
            ]
          },
          "metadata": {}
        },
        {
          "output_type": "execute_result",
          "data": {
            "text/plain": [
              "{'eval_loss': 0.9321605563163757,\n",
              " 'eval_roc_auc': 0.4588293650793651,\n",
              " 'eval_runtime': 7.6838,\n",
              " 'eval_samples_per_second': 27.721,\n",
              " 'eval_steps_per_second': 3.514}"
            ]
          },
          "metadata": {},
          "execution_count": 174
        }
      ]
    },
    {
      "cell_type": "markdown",
      "source": [
        "Note the current roc auc is rather low.\n",
        "Now fine-tune the model"
      ],
      "metadata": {
        "id": "1agS2NGKR1Yq"
      }
    },
    {
      "cell_type": "code",
      "source": [
        "trainer.train()"
      ],
      "metadata": {
        "colab": {
          "base_uri": "https://localhost:8080/",
          "height": 287
        },
        "id": "GtHyTsmJR_Ot",
        "outputId": "050d4021-8c5c-4a1a-c28a-bb6d39c2c6fb"
      },
      "execution_count": 175,
      "outputs": [
        {
          "output_type": "display_data",
          "data": {
            "text/plain": [
              "<IPython.core.display.HTML object>"
            ],
            "text/html": [
              "\n",
              "    <div>\n",
              "      \n",
              "      <progress value='535' max='535' style='width:300px; height:20px; vertical-align: middle;'></progress>\n",
              "      [535/535 07:37, Epoch 5/5]\n",
              "    </div>\n",
              "    <table border=\"1\" class=\"dataframe\">\n",
              "  <thead>\n",
              " <tr style=\"text-align: left;\">\n",
              "      <th>Epoch</th>\n",
              "      <th>Training Loss</th>\n",
              "      <th>Validation Loss</th>\n",
              "      <th>Roc Auc</th>\n",
              "    </tr>\n",
              "  </thead>\n",
              "  <tbody>\n",
              "    <tr>\n",
              "      <td>1</td>\n",
              "      <td>No log</td>\n",
              "      <td>0.369411</td>\n",
              "      <td>0.929067</td>\n",
              "    </tr>\n",
              "    <tr>\n",
              "      <td>2</td>\n",
              "      <td>No log</td>\n",
              "      <td>0.156992</td>\n",
              "      <td>0.932788</td>\n",
              "    </tr>\n",
              "    <tr>\n",
              "      <td>3</td>\n",
              "      <td>No log</td>\n",
              "      <td>0.314399</td>\n",
              "      <td>0.901290</td>\n",
              "    </tr>\n",
              "    <tr>\n",
              "      <td>4</td>\n",
              "      <td>No log</td>\n",
              "      <td>0.230464</td>\n",
              "      <td>0.918651</td>\n",
              "    </tr>\n",
              "    <tr>\n",
              "      <td>5</td>\n",
              "      <td>0.144600</td>\n",
              "      <td>0.241032</td>\n",
              "      <td>0.926835</td>\n",
              "    </tr>\n",
              "  </tbody>\n",
              "</table><p>"
            ]
          },
          "metadata": {}
        },
        {
          "output_type": "display_data",
          "data": {
            "text/plain": [
              "<IPython.core.display.HTML object>"
            ],
            "text/html": [
              "\n",
              "    <div>\n",
              "      \n",
              "      <progress value='54' max='27' style='width:300px; height:20px; vertical-align: middle;'></progress>\n",
              "      [27/27 02:44]\n",
              "    </div>\n",
              "    "
            ]
          },
          "metadata": {}
        },
        {
          "output_type": "execute_result",
          "data": {
            "text/plain": [
              "TrainOutput(global_step=535, training_loss=0.13791261721994275, metrics={'train_runtime': 457.9109, 'train_samples_per_second': 9.281, 'train_steps_per_second': 1.168, 'total_flos': 1118221985280000.0, 'train_loss': 0.13791261721994275, 'epoch': 5.0})"
            ]
          },
          "metadata": {},
          "execution_count": 175
        }
      ]
    },
    {
      "cell_type": "markdown",
      "source": [
        "Having more than 1 epoch doesn't seem to have helped much.\n",
        "But, nevertheless, note the roc auc is already much better after the first epoch (compared to the base model), indicating the fine-tuning helped."
      ],
      "metadata": {
        "id": "OZSyJw6dSvJ6"
      }
    },
    {
      "cell_type": "markdown",
      "source": [
        "## Manually check a few cases"
      ],
      "metadata": {
        "id": "42VjeIiXbLrq"
      }
    },
    {
      "cell_type": "markdown",
      "source": [
        "Manually try the model on a few questions.\n",
        "\n",
        "`lABEL_1` means *cannot answer*\n",
        "\n",
        "`LABEL_0` means *can answer*."
      ],
      "metadata": {
        "id": "Ranvk92QTVxI"
      }
    },
    {
      "cell_type": "code",
      "source": [
        "pipe = TextClassificationPipeline(\n",
        "    model=model,\n",
        "    tokenizer=tokenizer,\n",
        "    device='cuda:0',\n",
        ")"
      ],
      "metadata": {
        "id": "INgGF63GZcjp"
      },
      "execution_count": 183,
      "outputs": []
    },
    {
      "cell_type": "markdown",
      "source": [],
      "metadata": {
        "id": "6y6IsKxjSi_E"
      }
    },
    {
      "cell_type": "code",
      "source": [
        "pipe('Can I apply for a loan if I have a low credit score?')"
      ],
      "metadata": {
        "colab": {
          "base_uri": "https://localhost:8080/"
        },
        "id": "-ghIF3a4TlbM",
        "outputId": "408a035d-b55a-4a64-9c1d-9951f242edb4"
      },
      "execution_count": 184,
      "outputs": [
        {
          "output_type": "execute_result",
          "data": {
            "text/plain": [
              "[{'label': 'LABEL_1', 'score': 0.9996961355209351}]"
            ]
          },
          "metadata": {},
          "execution_count": 184
        }
      ]
    },
    {
      "cell_type": "code",
      "source": [
        "pipe('Is my loan approved?')"
      ],
      "metadata": {
        "colab": {
          "base_uri": "https://localhost:8080/"
        },
        "id": "76hxUA9Ua2e2",
        "outputId": "e05e1000-9b76-40f0-8349-6a78e4f494de"
      },
      "execution_count": 185,
      "outputs": [
        {
          "output_type": "execute_result",
          "data": {
            "text/plain": [
              "[{'label': 'LABEL_0', 'score': 0.9928457140922546}]"
            ]
          },
          "metadata": {},
          "execution_count": 185
        }
      ]
    },
    {
      "cell_type": "code",
      "source": [
        "pipe('What is the current status of my loan?')"
      ],
      "metadata": {
        "colab": {
          "base_uri": "https://localhost:8080/"
        },
        "id": "mN7a2zOwa7Ia",
        "outputId": "566e34cd-07b2-424a-bea3-0ff72776b64b"
      },
      "execution_count": 186,
      "outputs": [
        {
          "output_type": "execute_result",
          "data": {
            "text/plain": [
              "[{'label': 'LABEL_0', 'score': 0.9936569333076477}]"
            ]
          },
          "metadata": {},
          "execution_count": 186
        }
      ]
    },
    {
      "cell_type": "code",
      "source": [
        "pipe('Do I need to provide proof of residence for the loan application?')"
      ],
      "metadata": {
        "colab": {
          "base_uri": "https://localhost:8080/"
        },
        "id": "-G9vUmcMbDme",
        "outputId": "2bedaa43-5ae6-4328-91da-91fc5816f1e2"
      },
      "execution_count": 187,
      "outputs": [
        {
          "output_type": "execute_result",
          "data": {
            "text/plain": [
              "[{'label': 'LABEL_1', 'score': 0.9996516704559326}]"
            ]
          },
          "metadata": {},
          "execution_count": 187
        }
      ]
    },
    {
      "cell_type": "code",
      "source": [
        "pipe('How long is the repayment period for this loan?')"
      ],
      "metadata": {
        "colab": {
          "base_uri": "https://localhost:8080/"
        },
        "id": "zaEMw83PbJBM",
        "outputId": "ed201f49-19c4-497e-ee04-93916f8d0398"
      },
      "execution_count": 188,
      "outputs": [
        {
          "output_type": "execute_result",
          "data": {
            "text/plain": [
              "[{'label': 'LABEL_0', 'score': 0.9926026463508606}]"
            ]
          },
          "metadata": {},
          "execution_count": 188
        }
      ]
    },
    {
      "cell_type": "code",
      "source": [
        "pipe('What is the term for this loan?')"
      ],
      "metadata": {
        "colab": {
          "base_uri": "https://localhost:8080/"
        },
        "id": "ubO1c1sYbOGT",
        "outputId": "a472e257-9f24-4eb3-f37f-3b90bc66b006"
      },
      "execution_count": 189,
      "outputs": [
        {
          "output_type": "execute_result",
          "data": {
            "text/plain": [
              "[{'label': 'LABEL_1', 'score': 0.9773424863815308}]"
            ]
          },
          "metadata": {},
          "execution_count": 189
        }
      ]
    },
    {
      "cell_type": "code",
      "source": [
        "pipe(\"How do I know the total amount I will repay over the loan's tenure?\")"
      ],
      "metadata": {
        "colab": {
          "base_uri": "https://localhost:8080/"
        },
        "id": "nQ6DwSZtbnpm",
        "outputId": "dfdc3f1e-eb15-4b11-d798-01bd33fc03ed"
      },
      "execution_count": 190,
      "outputs": [
        {
          "output_type": "execute_result",
          "data": {
            "text/plain": [
              "[{'label': 'LABEL_0', 'score': 0.7875183820724487}]"
            ]
          },
          "metadata": {},
          "execution_count": 190
        }
      ]
    },
    {
      "cell_type": "code",
      "source": [
        "pipe(\"How do I know how much I will end up paying after the tenure?\")"
      ],
      "metadata": {
        "colab": {
          "base_uri": "https://localhost:8080/"
        },
        "id": "lhuXHMGIbvM3",
        "outputId": "3ee7baf1-6eb3-42aa-8edd-50689477eac0"
      },
      "execution_count": 191,
      "outputs": [
        {
          "output_type": "execute_result",
          "data": {
            "text/plain": [
              "[{'label': 'LABEL_1', 'score': 0.583543062210083}]"
            ]
          },
          "metadata": {},
          "execution_count": 191
        }
      ]
    },
    {
      "cell_type": "code",
      "source": [
        "pipe(\"Who is the president of the United States?\") # :("
      ],
      "metadata": {
        "colab": {
          "base_uri": "https://localhost:8080/"
        },
        "id": "mTJNLwd0b48e",
        "outputId": "afefc66b-2181-4f1e-d53f-9f994cb9662d"
      },
      "execution_count": 192,
      "outputs": [
        {
          "output_type": "execute_result",
          "data": {
            "text/plain": [
              "[{'label': 'LABEL_0', 'score': 0.9439690113067627}]"
            ]
          },
          "metadata": {},
          "execution_count": 192
        }
      ]
    },
    {
      "cell_type": "code",
      "source": [
        "pipe(\"Is this interest rate convenient for me?\")"
      ],
      "metadata": {
        "colab": {
          "base_uri": "https://localhost:8080/"
        },
        "id": "hR4aofAmcKyd",
        "outputId": "1506802b-1b0a-42ca-fad5-b305dd74fb9c"
      },
      "execution_count": 193,
      "outputs": [
        {
          "output_type": "execute_result",
          "data": {
            "text/plain": [
              "[{'label': 'LABEL_1', 'score': 0.9428815841674805}]"
            ]
          },
          "metadata": {},
          "execution_count": 193
        }
      ]
    },
    {
      "cell_type": "code",
      "source": [
        "pipe(\"What happens in the case of loan default?\")"
      ],
      "metadata": {
        "colab": {
          "base_uri": "https://localhost:8080/"
        },
        "id": "WqJL5ZuxcbAO",
        "outputId": "0c9a7902-70df-452d-deec-03412b74f340"
      },
      "execution_count": 194,
      "outputs": [
        {
          "output_type": "execute_result",
          "data": {
            "text/plain": [
              "[{'label': 'LABEL_1', 'score': 0.9992445707321167}]"
            ]
          },
          "metadata": {},
          "execution_count": 194
        }
      ]
    },
    {
      "cell_type": "markdown",
      "source": [
        "# LLM"
      ],
      "metadata": {
        "id": "caAf-EcIj8HR"
      }
    },
    {
      "cell_type": "markdown",
      "source": [
        "## Functions and constants"
      ],
      "metadata": {
        "id": "JYCDOg-OaYYH"
      }
    },
    {
      "cell_type": "code",
      "source": [
        "def get_prompt(context, question):\n",
        "  prompt = f\"\"\"\n",
        "  Assume you are a polite assistant answer questions to a customer about a loan application\n",
        "  Follow exactly these 2 steps:\n",
        "  1. Read the context below\n",
        "  Context : {context}\n",
        "  2. Answer the question using only this context\n",
        "  User Question: {question}\n",
        "\n",
        "  If you don't have any context and are unsure of the answer, politely reply that you don't know about this topic and suggest that a more senior lending officer may need to answer that question.\n",
        "  \"\"\"\n",
        "  return prompt\n"
      ],
      "metadata": {
        "id": "fxhbCJ4Innzq"
      },
      "execution_count": 195,
      "outputs": []
    },
    {
      "cell_type": "code",
      "source": [
        "def ask(context, question):\n",
        "  response = openai.ChatCompletion.create(\n",
        "    model=\"gpt-3.5-turbo\",\n",
        "    messages=[{'role': 'user', 'content': get_prompt(context, question)}],\n",
        "    temperature=0,\n",
        "    max_tokens=1024\n",
        "  )\n",
        "  return response['choices'][0]['message']['content']"
      ],
      "metadata": {
        "id": "GoD2XlV0sN9y"
      },
      "execution_count": 196,
      "outputs": []
    },
    {
      "cell_type": "code",
      "source": [
        "context_counter = \"\"\"\n",
        "  The loan application is at the initial stage. It's currently at the counter.\n",
        "  The rate for the loan is 3.75.\n",
        "  The loan amount is 18000.\n",
        "  The loan term is 60 days.\n",
        "  The estimated payment is 361.65\n",
        "\"\"\""
      ],
      "metadata": {
        "id": "yMf2DmVIlN-s"
      },
      "execution_count": 197,
      "outputs": []
    },
    {
      "cell_type": "code",
      "source": [
        "context = context_counter"
      ],
      "metadata": {
        "id": "uaO5c2eV1vQ-"
      },
      "execution_count": 198,
      "outputs": []
    },
    {
      "cell_type": "markdown",
      "source": [
        "## Test cases"
      ],
      "metadata": {
        "id": "YXmrlqtN6x3H"
      }
    },
    {
      "cell_type": "markdown",
      "source": [
        "Most of the questions extracted from the provided *HalQuestions_StatusOnly_Test* document. I added a few examples I considered interesting."
      ],
      "metadata": {
        "id": "q5lGqrgk6PxR"
      }
    },
    {
      "cell_type": "code",
      "source": [
        "question = 'What is the current status of my loan application?'\n",
        "ask(context, question)"
      ],
      "metadata": {
        "colab": {
          "base_uri": "https://localhost:8080/",
          "height": 35
        },
        "id": "PE2eUyKfiQKo",
        "outputId": "656a2383-c786-406c-b5b5-552e636352b9"
      },
      "execution_count": 199,
      "outputs": [
        {
          "output_type": "execute_result",
          "data": {
            "text/plain": [
              "'The current status of your loan application is that it is at the initial stage and is currently at the counter.'"
            ],
            "application/vnd.google.colaboratory.intrinsic+json": {
              "type": "string"
            }
          },
          "metadata": {},
          "execution_count": 199
        }
      ]
    },
    {
      "cell_type": "markdown",
      "source": [
        "Sounds a bit robotic, but the answer is generally correct."
      ],
      "metadata": {
        "id": "Ol3wFjPFkddh"
      }
    },
    {
      "cell_type": "code",
      "source": [
        "question = 'When can I expect a decision on my loan application?'\n",
        "ask(context, question)"
      ],
      "metadata": {
        "colab": {
          "base_uri": "https://localhost:8080/",
          "height": 70
        },
        "id": "TBJGiJqTiXm4",
        "outputId": "6ea4d998-6b7d-4dac-c0d6-0ca66e5a3376"
      },
      "execution_count": 200,
      "outputs": [
        {
          "output_type": "execute_result",
          "data": {
            "text/plain": [
              "'Based on the current stage of your loan application, it is difficult for me to provide an exact timeframe for when a decision will be made. However, the lending process typically involves a thorough evaluation of your application, which can take some time. I recommend reaching out to a senior lending officer who can provide you with more specific information regarding the timeline for a decision on your loan application.'"
            ],
            "application/vnd.google.colaboratory.intrinsic+json": {
              "type": "string"
            }
          },
          "metadata": {},
          "execution_count": 200
        }
      ]
    },
    {
      "cell_type": "code",
      "source": [
        "question = 'Can I check the status of my loan application online?'\n",
        "ask(context, question)"
      ],
      "metadata": {
        "colab": {
          "base_uri": "https://localhost:8080/",
          "height": 53
        },
        "id": "RRKpPrfYijWo",
        "outputId": "600b8f67-61bc-45ca-de2e-cc7911a2d879"
      },
      "execution_count": 201,
      "outputs": [
        {
          "output_type": "execute_result",
          "data": {
            "text/plain": [
              "\"I'm sorry, but as a polite assistant, I don't have access to specific information about the status of your loan application. I recommend reaching out to a senior lending officer who can provide you with the most accurate and up-to-date information regarding your application.\""
            ],
            "application/vnd.google.colaboratory.intrinsic+json": {
              "type": "string"
            }
          },
          "metadata": {},
          "execution_count": 201
        }
      ]
    },
    {
      "cell_type": "code",
      "source": [
        "question = 'Are there any updates on the progress of my loan application?'\n",
        "ask(context, question)"
      ],
      "metadata": {
        "colab": {
          "base_uri": "https://localhost:8080/",
          "height": 53
        },
        "id": "H23ToRpPjL7Y",
        "outputId": "cc01cf3d-c4dc-4475-f520-995f41dd934d"
      },
      "execution_count": 202,
      "outputs": [
        {
          "output_type": "execute_result",
          "data": {
            "text/plain": [
              "\"I apologize for any inconvenience, but as a polite assistant, I don't have access to real-time updates on the progress of your loan application. I recommend reaching out to a senior lending officer who would be better equipped to provide you with the most accurate and up-to-date information regarding your application.\""
            ],
            "application/vnd.google.colaboratory.intrinsic+json": {
              "type": "string"
            }
          },
          "metadata": {},
          "execution_count": 202
        }
      ]
    },
    {
      "cell_type": "code",
      "source": [
        "question = 'What is the interest rate for this loan?'\n",
        "ask(context, question)"
      ],
      "metadata": {
        "colab": {
          "base_uri": "https://localhost:8080/",
          "height": 35
        },
        "id": "E2F8cm3EjW8G",
        "outputId": "9b1428f6-64ce-4159-f4ea-7c20c1a3e780"
      },
      "execution_count": 203,
      "outputs": [
        {
          "output_type": "execute_result",
          "data": {
            "text/plain": [
              "'The interest rate for this loan is 3.75%.'"
            ],
            "application/vnd.google.colaboratory.intrinsic+json": {
              "type": "string"
            }
          },
          "metadata": {},
          "execution_count": 203
        }
      ]
    },
    {
      "cell_type": "code",
      "source": [
        "question = 'What is the interest rate on my loan?'\n",
        "ask(context, question)"
      ],
      "metadata": {
        "colab": {
          "base_uri": "https://localhost:8080/",
          "height": 35
        },
        "id": "TXTdY6Ds2Zj8",
        "outputId": "ec3ce7ab-3f4a-410f-a23a-b4e0588d9189"
      },
      "execution_count": 205,
      "outputs": [
        {
          "output_type": "execute_result",
          "data": {
            "text/plain": [
              "'The interest rate on your loan is 3.75%.'"
            ],
            "application/vnd.google.colaboratory.intrinsic+json": {
              "type": "string"
            }
          },
          "metadata": {},
          "execution_count": 205
        }
      ]
    },
    {
      "cell_type": "code",
      "source": [
        "question = 'Are there any hidden fees associated with this loan?'\n",
        "ask(context, question)"
      ],
      "metadata": {
        "colab": {
          "base_uri": "https://localhost:8080/",
          "height": 53
        },
        "id": "HTBDfLh82faR",
        "outputId": "269a4489-15a0-4f42-9249-7b30bf8d74f3"
      },
      "execution_count": 207,
      "outputs": [
        {
          "output_type": "execute_result",
          "data": {
            "text/plain": [
              "'Based on the information provided, there is no mention of any hidden fees associated with this loan. However, for a more detailed and accurate answer, I recommend consulting with a senior lending officer who can provide you with more specific information regarding any potential fees.'"
            ],
            "application/vnd.google.colaboratory.intrinsic+json": {
              "type": "string"
            }
          },
          "metadata": {},
          "execution_count": 207
        }
      ]
    },
    {
      "cell_type": "code",
      "source": [
        "question = 'Is the rate of my payment convenient for me?'\n",
        "ask(context, question)"
      ],
      "metadata": {
        "colab": {
          "base_uri": "https://localhost:8080/",
          "height": 53
        },
        "id": "MOSjlPzhtjxm",
        "outputId": "4e80bf47-5c13-4f9b-d029-440bd3b84654"
      },
      "execution_count": 208,
      "outputs": [
        {
          "output_type": "execute_result",
          "data": {
            "text/plain": [
              "'Based on the provided context, the rate for your loan payment is 3.75. Whether this rate is convenient for you depends on your personal financial situation and preferences. It would be best to evaluate your own financial capabilities and determine if this rate aligns with your needs and budget.'"
            ],
            "application/vnd.google.colaboratory.intrinsic+json": {
              "type": "string"
            }
          },
          "metadata": {},
          "execution_count": 208
        }
      ]
    },
    {
      "cell_type": "markdown",
      "source": [
        "A bit verbose. Also, it includes some information it has not been asked about (the rate). It sound reasonable overall though."
      ],
      "metadata": {
        "id": "XKs0spSsyMCX"
      }
    },
    {
      "cell_type": "code",
      "source": [
        "question = 'How long does it typically take to process a loan application?'\n",
        "ask(context, question)"
      ],
      "metadata": {
        "colab": {
          "base_uri": "https://localhost:8080/",
          "height": 53
        },
        "id": "6Hlon26dv9eu",
        "outputId": "4ad56d9e-eb0e-427a-ddc8-73a2b980cf6f"
      },
      "execution_count": 209,
      "outputs": [
        {
          "output_type": "execute_result",
          "data": {
            "text/plain": [
              "'Typically, the processing time for a loan application can vary depending on various factors. However, since the loan application is currently at the initial stage and at the counter, it is difficult to provide an exact timeframe. I recommend reaching out to a senior lending officer who would be able to provide you with more specific information regarding the processing time for your loan application.'"
            ],
            "application/vnd.google.colaboratory.intrinsic+json": {
              "type": "string"
            }
          },
          "metadata": {},
          "execution_count": 209
        }
      ]
    },
    {
      "cell_type": "markdown",
      "source": [
        "The first sentence sounds a bit weird. Overall, the answer in reasonable."
      ],
      "metadata": {
        "id": "S7sUlnbNyvnh"
      }
    },
    {
      "cell_type": "code",
      "source": [
        "question = 'How long will it take to process my loan application?'\n",
        "ask(context, question)"
      ],
      "metadata": {
        "colab": {
          "base_uri": "https://localhost:8080/",
          "height": 53
        },
        "id": "f_wvTHQD2Mr-",
        "outputId": "f25de56f-f488-4d23-9b04-17e43b49d143"
      },
      "execution_count": 210,
      "outputs": [
        {
          "output_type": "execute_result",
          "data": {
            "text/plain": [
              "\"Based on the current stage of your loan application, it is difficult for me to provide an exact timeframe for the processing. However, rest assured that our team is working diligently to process your application as quickly as possible. If you have any specific concerns or need further assistance, please let me know and I'll be happy to help.\""
            ],
            "application/vnd.google.colaboratory.intrinsic+json": {
              "type": "string"
            }
          },
          "metadata": {},
          "execution_count": 210
        }
      ]
    },
    {
      "cell_type": "code",
      "source": [
        "question = 'Can I choose between fixed and variable interest rates for the loan?'\n",
        "ask(context, question)"
      ],
      "metadata": {
        "colab": {
          "base_uri": "https://localhost:8080/",
          "height": 53
        },
        "id": "Sdzh8w_kgtVQ",
        "outputId": "ca311c1c-f5b8-43fa-a1b7-4c6a2f174ca3"
      },
      "execution_count": 211,
      "outputs": [
        {
          "output_type": "execute_result",
          "data": {
            "text/plain": [
              "\"I apologize for any confusion, but at this initial stage of the loan application, I don't have information about the options for fixed or variable interest rates. It would be best to consult with a senior lending officer who can provide more detailed information and assist you in choosing the most suitable interest rate option for your loan.\""
            ],
            "application/vnd.google.colaboratory.intrinsic+json": {
              "type": "string"
            }
          },
          "metadata": {},
          "execution_count": 211
        }
      ]
    },
    {
      "cell_type": "markdown",
      "source": [
        "The first sentence is a bit creative. Overall, the answer is reasonable."
      ],
      "metadata": {
        "id": "3JZsfleLzB0x"
      }
    },
    {
      "cell_type": "code",
      "source": [
        "question = 'How long is the repayment period for this loan?'\n",
        "ask(context, question)"
      ],
      "metadata": {
        "colab": {
          "base_uri": "https://localhost:8080/",
          "height": 35
        },
        "id": "9afNGIaFlwMj",
        "outputId": "9dc0a2a4-c49d-4a3a-ad91-7f73d5124011"
      },
      "execution_count": 212,
      "outputs": [
        {
          "output_type": "execute_result",
          "data": {
            "text/plain": [
              "'The repayment period for this loan is 60 days.'"
            ],
            "application/vnd.google.colaboratory.intrinsic+json": {
              "type": "string"
            }
          },
          "metadata": {},
          "execution_count": 212
        }
      ]
    },
    {
      "cell_type": "code",
      "source": [
        "question = 'How will I know if my loan application has been denied?'\n",
        "ask(context, question)"
      ],
      "metadata": {
        "colab": {
          "base_uri": "https://localhost:8080/",
          "height": 53
        },
        "id": "GSmLhltth4la",
        "outputId": "338f0f1f-7b55-41d0-dfad-460e68996852"
      },
      "execution_count": 213,
      "outputs": [
        {
          "output_type": "execute_result",
          "data": {
            "text/plain": [
              "'Once your loan application has been reviewed by our lending team, you will receive a notification regarding the status of your application. If your loan application has been denied, you will be informed about the decision and the reasons behind it. If you have any further questions or concerns, please feel free to ask.'"
            ],
            "application/vnd.google.colaboratory.intrinsic+json": {
              "type": "string"
            }
          },
          "metadata": {},
          "execution_count": 213
        }
      ]
    },
    {
      "cell_type": "markdown",
      "source": [
        "The first sentence is definitely too creative. However, the answer does seem to point the customer in the right direction."
      ],
      "metadata": {
        "id": "1MmJHbNBzUT3"
      }
    },
    {
      "cell_type": "code",
      "source": [
        "question = 'How will I know if my loan application is missing any documents?'\n",
        "ask(context, question)"
      ],
      "metadata": {
        "colab": {
          "base_uri": "https://localhost:8080/",
          "height": 53
        },
        "id": "wAfmuxoFzQn3",
        "outputId": "c324aae6-55d9-4a6d-f19e-2f748defe8f7"
      },
      "execution_count": 214,
      "outputs": [
        {
          "output_type": "execute_result",
          "data": {
            "text/plain": [
              "'As a polite assistant, I can inform you that at the initial stage of your loan application, the lending officer at the counter will review your documents to ensure that all necessary paperwork is included. If any documents are missing, they will inform you and provide guidance on what is required.'"
            ],
            "application/vnd.google.colaboratory.intrinsic+json": {
              "type": "string"
            }
          },
          "metadata": {},
          "execution_count": 214
        }
      ]
    },
    {
      "cell_type": "markdown",
      "source": [
        "Again probably too creative. Not necessarily wrong though."
      ],
      "metadata": {
        "id": "6sJmvFraXHnv"
      }
    },
    {
      "cell_type": "code",
      "source": [
        "question = 'How is the loan interest calculated?'\n",
        "ask(context, question)"
      ],
      "metadata": {
        "colab": {
          "base_uri": "https://localhost:8080/",
          "height": 53
        },
        "id": "-B4oPgGUzvcN",
        "outputId": "0584ff27-fc6d-4e41-bb8a-b461c12bc102"
      },
      "execution_count": 215,
      "outputs": [
        {
          "output_type": "execute_result",
          "data": {
            "text/plain": [
              "'The loan interest is calculated based on the loan rate, which in this case is 3.75%. The interest is calculated on the loan amount of $18,000 over the loan term of 60 days. The specific calculation formula may vary depending on the terms and conditions of the loan agreement.'"
            ],
            "application/vnd.google.colaboratory.intrinsic+json": {
              "type": "string"
            }
          },
          "metadata": {},
          "execution_count": 215
        }
      ]
    },
    {
      "cell_type": "markdown",
      "source": [
        "Looks like a quite reasonable answer (not sure it it's helpful though)."
      ],
      "metadata": {
        "id": "SrTME80d0EGp"
      }
    },
    {
      "cell_type": "code",
      "source": [
        "question = 'How is the interest calculated on my loan?'\n",
        "ask(context, question)"
      ],
      "metadata": {
        "colab": {
          "base_uri": "https://localhost:8080/",
          "height": 53
        },
        "id": "YKmA-W2I2w3N",
        "outputId": "5938d6fd-c56a-4b18-91bc-8184ee56ca65"
      },
      "execution_count": 216,
      "outputs": [
        {
          "output_type": "execute_result",
          "data": {
            "text/plain": [
              "'The interest on your loan is calculated based on the loan amount, the interest rate, and the loan term. In this case, the interest rate is 3.75% and the loan amount is $18,000. The loan term is 60 days. The estimated payment of $361.65 includes both the principal amount and the interest.'"
            ],
            "application/vnd.google.colaboratory.intrinsic+json": {
              "type": "string"
            }
          },
          "metadata": {},
          "execution_count": 216
        }
      ]
    },
    {
      "cell_type": "markdown",
      "source": [
        "A bit more creative compared to the previuos answer, although it still looks reasonable at a glance."
      ],
      "metadata": {
        "id": "k0wCfSqs2-FA"
      }
    },
    {
      "cell_type": "code",
      "source": [
        "question = 'What is the total amount I will repay over the loan term?'\n",
        "ask(context, question)"
      ],
      "metadata": {
        "colab": {
          "base_uri": "https://localhost:8080/",
          "height": 35
        },
        "id": "U5O2ohKU3LFB",
        "outputId": "4714b018-1099-4d6e-a7af-af9ac15100e3"
      },
      "execution_count": 217,
      "outputs": [
        {
          "output_type": "execute_result",
          "data": {
            "text/plain": [
              "'The total amount you will repay over the loan term is $21,699.'"
            ],
            "application/vnd.google.colaboratory.intrinsic+json": {
              "type": "string"
            }
          },
          "metadata": {},
          "execution_count": 217
        }
      ]
    },
    {
      "cell_type": "markdown",
      "source": [
        "This looks wrong..."
      ],
      "metadata": {
        "id": "kRPxWvld35cK"
      }
    },
    {
      "cell_type": "code",
      "source": [
        "question = 'How will I be notified of the loan application decision?'\n",
        "ask(context, question)"
      ],
      "metadata": {
        "colab": {
          "base_uri": "https://localhost:8080/",
          "height": 35
        },
        "id": "Hx7G8QElz93m",
        "outputId": "82ff7848-456d-4129-cd62-5dce6f986631"
      },
      "execution_count": 218,
      "outputs": [
        {
          "output_type": "execute_result",
          "data": {
            "text/plain": [
              "'Once the loan application decision has been made, you will be notified through the contact information provided in your application. This could be through a phone call, email, or letter.'"
            ],
            "application/vnd.google.colaboratory.intrinsic+json": {
              "type": "string"
            }
          },
          "metadata": {},
          "execution_count": 218
        }
      ]
    },
    {
      "cell_type": "markdown",
      "source": [
        "Here it's clearly answering without considering the context at all (the contex provides no information about notifications). While it does not look particularly problematic in this case, it's definetily not the expected behavior."
      ],
      "metadata": {
        "id": "AXTs1pi50f35"
      }
    },
    {
      "cell_type": "code",
      "source": [
        "question = 'How do I know if my loan has been approved?'\n",
        "ask(context, question)"
      ],
      "metadata": {
        "colab": {
          "base_uri": "https://localhost:8080/",
          "height": 53
        },
        "id": "3L8JemSF4biw",
        "outputId": "391c0289-3968-4473-fa0a-04c42619cd84"
      },
      "execution_count": 219,
      "outputs": [
        {
          "output_type": "execute_result",
          "data": {
            "text/plain": [
              "\"Based on the information provided, I can inform you that as an initial stage, your loan application is currently at the counter. However, I don't have access to real-time updates on the approval status of your loan. To get accurate information regarding the approval of your loan, I recommend reaching out to a senior lending officer who will be able to provide you with the most up-to-date information.\""
            ],
            "application/vnd.google.colaboratory.intrinsic+json": {
              "type": "string"
            }
          },
          "metadata": {},
          "execution_count": 219
        }
      ]
    },
    {
      "cell_type": "code",
      "source": [
        "question = 'What is the current stage of the loan application review process?'\n",
        "ask(context, question)"
      ],
      "metadata": {
        "colab": {
          "base_uri": "https://localhost:8080/",
          "height": 35
        },
        "id": "9sfgijTZ0ajn",
        "outputId": "6330a87d-7c57-4953-8311-bfa13f5bce63"
      },
      "execution_count": 220,
      "outputs": [
        {
          "output_type": "execute_result",
          "data": {
            "text/plain": [
              "'The current stage of the loan application review process is at the initial stage. It is currently at the counter.'"
            ],
            "application/vnd.google.colaboratory.intrinsic+json": {
              "type": "string"
            }
          },
          "metadata": {},
          "execution_count": 220
        }
      ]
    },
    {
      "cell_type": "code",
      "source": [
        "question = 'How long does it usually take to verify the submitted documents?'\n",
        "ask(context, question)"
      ],
      "metadata": {
        "colab": {
          "base_uri": "https://localhost:8080/",
          "height": 53
        },
        "id": "6alMr7QX1FHr",
        "outputId": "103db7e7-8ce0-4b75-df4a-7ca3856b4b8e"
      },
      "execution_count": 221,
      "outputs": [
        {
          "output_type": "execute_result",
          "data": {
            "text/plain": [
              "'The verification process for submitted documents typically takes a few business days. However, please note that the exact timeframe may vary depending on the volume of applications and the complexity of the documents. If you have any specific concerns or need further assistance, I recommend reaching out to a senior lending officer who can provide more accurate information.'"
            ],
            "application/vnd.google.colaboratory.intrinsic+json": {
              "type": "string"
            }
          },
          "metadata": {},
          "execution_count": 221
        }
      ]
    },
    {
      "cell_type": "markdown",
      "source": [
        "The first 2 sentences are quite creative. However, the answer looks reasonable overall."
      ],
      "metadata": {
        "id": "4v2rEfmW1SR8"
      }
    },
    {
      "cell_type": "code",
      "source": [
        "question = 'How will I receive the loan funds if my application is approved?'\n",
        "ask(context, question)"
      ],
      "metadata": {
        "colab": {
          "base_uri": "https://localhost:8080/",
          "height": 53
        },
        "id": "IG1PQcdO1M1D",
        "outputId": "6ddef3b5-63a1-4444-d54c-79aa4ca07d81"
      },
      "execution_count": 223,
      "outputs": [
        {
          "output_type": "execute_result",
          "data": {
            "text/plain": [
              "'If your loan application is approved, you will receive the loan funds through a method that will be discussed with you by the lending officer. They will provide you with the necessary information on how the funds will be disbursed to you.'"
            ],
            "application/vnd.google.colaboratory.intrinsic+json": {
              "type": "string"
            }
          },
          "metadata": {},
          "execution_count": 223
        }
      ]
    },
    {
      "cell_type": "markdown",
      "source": [
        "Probably too creative..."
      ],
      "metadata": {
        "id": "GKHMHr5FXx2P"
      }
    },
    {
      "cell_type": "code",
      "source": [
        "question = 'How will I be notified of any changes in the refinancing process?'\n",
        "ask(context, question)"
      ],
      "metadata": {
        "colab": {
          "base_uri": "https://localhost:8080/",
          "height": 70
        },
        "id": "3P2Z3X0q1i_N",
        "outputId": "91e30573-595a-4acd-a713-0e45fb24a609"
      },
      "execution_count": 224,
      "outputs": [
        {
          "output_type": "execute_result",
          "data": {
            "text/plain": [
              "\"As a polite assistant, I can inform you that you will be notified of any changes in the refinancing process through the contact information provided in your loan application. The lending officer will reach out to you via phone or email to inform you about any updates or changes. If you have any specific concerns or questions regarding the refinancing process, please feel free to let me know, and I'll do my best to assist you.\""
            ],
            "application/vnd.google.colaboratory.intrinsic+json": {
              "type": "string"
            }
          },
          "metadata": {},
          "execution_count": 224
        }
      ]
    },
    {
      "cell_type": "markdown",
      "source": [
        "Again very creative here, although reasonable answer in general."
      ],
      "metadata": {
        "id": "0v1-ZZ1f10UG"
      }
    },
    {
      "cell_type": "code",
      "source": [
        "question = 'How will I be notified if the request for a lower interest rate is approved?'\n",
        "ask(context, question)"
      ],
      "metadata": {
        "colab": {
          "base_uri": "https://localhost:8080/",
          "height": 53
        },
        "id": "VDf268hR1sG-",
        "outputId": "733fb52f-5617-4a48-fc8d-db6f1aeb1884"
      },
      "execution_count": 225,
      "outputs": [
        {
          "output_type": "execute_result",
          "data": {
            "text/plain": [
              "'As a polite assistant, I can inform you that at the initial stage of the loan application, the request for a lower interest rate has not been addressed yet. However, once a decision is made regarding the interest rate, you will be notified through the contact information provided in your application. If you have any further questions or concerns, please feel free to ask.'"
            ],
            "application/vnd.google.colaboratory.intrinsic+json": {
              "type": "string"
            }
          },
          "metadata": {},
          "execution_count": 225
        }
      ]
    },
    {
      "cell_type": "markdown",
      "source": [
        "Probably too creative..."
      ],
      "metadata": {
        "id": "WAssKhhmX7Vo"
      }
    },
    {
      "cell_type": "code",
      "source": [
        "question = 'When is my first payment due?'\n",
        "ask(context, question)"
      ],
      "metadata": {
        "colab": {
          "base_uri": "https://localhost:8080/",
          "height": 53
        },
        "id": "dZoKja1u2BRx",
        "outputId": "0bb5c206-5fae-4de3-f46f-c7916eebc057"
      },
      "execution_count": 226,
      "outputs": [
        {
          "output_type": "execute_result",
          "data": {
            "text/plain": [
              "'The first payment for your loan is typically due within 30 days of the loan being approved and disbursed. However, since your loan term is 60 days, it is possible that the first payment may be due within that timeframe. I recommend contacting a senior lending officer for more specific information regarding the due date of your first payment.'"
            ],
            "application/vnd.google.colaboratory.intrinsic+json": {
              "type": "string"
            }
          },
          "metadata": {},
          "execution_count": 226
        }
      ]
    },
    {
      "cell_type": "markdown",
      "source": [
        "Too creative. But at least it suggests contacting a senior lending officer."
      ],
      "metadata": {
        "id": "lHfyrogGYEZq"
      }
    },
    {
      "cell_type": "code",
      "source": [
        "question = 'What is the loan tenure?'\n",
        "ask(context, question)"
      ],
      "metadata": {
        "colab": {
          "base_uri": "https://localhost:8080/",
          "height": 35
        },
        "id": "lN-z1IjH2pfQ",
        "outputId": "a38a8a99-81ed-497f-e354-af459f94e98f"
      },
      "execution_count": 227,
      "outputs": [
        {
          "output_type": "execute_result",
          "data": {
            "text/plain": [
              "'The loan tenure is 60 days.'"
            ],
            "application/vnd.google.colaboratory.intrinsic+json": {
              "type": "string"
            }
          },
          "metadata": {},
          "execution_count": 227
        }
      ]
    },
    {
      "cell_type": "code",
      "source": [
        "question = 'How do I get a loan breakdown for different components?'\n",
        "ask(context, question)"
      ],
      "metadata": {
        "colab": {
          "base_uri": "https://localhost:8080/",
          "height": 53
        },
        "id": "-1Aeygl14sPQ",
        "outputId": "bdb63c9f-a5f6-452e-8207-38f1eb2f4785"
      },
      "execution_count": 229,
      "outputs": [
        {
          "output_type": "execute_result",
          "data": {
            "text/plain": [
              "'To get a loan breakdown for different components, you can speak to a senior lending officer who will be able to provide you with more detailed information about the breakdown of the loan components. They will be able to assist you further in understanding the specific breakdown of the loan.'"
            ],
            "application/vnd.google.colaboratory.intrinsic+json": {
              "type": "string"
            }
          },
          "metadata": {},
          "execution_count": 229
        }
      ]
    },
    {
      "cell_type": "code",
      "source": [
        "question = \"How do I get a document confirming my loan's interest rate?\"\n",
        "ask(context, question)"
      ],
      "metadata": {
        "colab": {
          "base_uri": "https://localhost:8080/",
          "height": 53
        },
        "id": "ZvS0Qx1J4-UB",
        "outputId": "c75ef5cf-07de-4c13-8388-459d95c0218a"
      },
      "execution_count": 230,
      "outputs": [
        {
          "output_type": "execute_result",
          "data": {
            "text/plain": [
              "\"To get a document confirming your loan's interest rate, you can request it from the lending officer at the counter where your loan application is currently being processed. They should be able to provide you with the necessary documentation.\""
            ],
            "application/vnd.google.colaboratory.intrinsic+json": {
              "type": "string"
            }
          },
          "metadata": {},
          "execution_count": 230
        }
      ]
    },
    {
      "cell_type": "code",
      "source": [
        "question = 'When will I receive my credit card if approved?'\n",
        "ask(context, question)"
      ],
      "metadata": {
        "colab": {
          "base_uri": "https://localhost:8080/",
          "height": 70
        },
        "id": "VyCNPBgI5J1K",
        "outputId": "4d3d0fa9-603b-437a-b79a-4bc578d781bb"
      },
      "execution_count": 231,
      "outputs": [
        {
          "output_type": "execute_result",
          "data": {
            "text/plain": [
              "\"As a polite assistant, I can provide information based on the given context. However, the context does not mention anything about a credit card. It only provides details about a loan application, such as the loan rate, amount, term, and estimated payment. Therefore, I'm unable to provide an answer regarding the timeline for receiving a credit card if approved. I recommend reaching out to a more senior lending officer who may have more information on this topic.\""
            ],
            "application/vnd.google.colaboratory.intrinsic+json": {
              "type": "string"
            }
          },
          "metadata": {},
          "execution_count": 231
        }
      ]
    },
    {
      "cell_type": "markdown",
      "source": [
        "Too verbose (and wih unnecesary details), but generally correct."
      ],
      "metadata": {
        "id": "j3IwpiJh5czd"
      }
    },
    {
      "cell_type": "code",
      "source": [
        "question = 'Are there any discrepancies in my loan application?'\n",
        "ask(context, question)"
      ],
      "metadata": {
        "colab": {
          "base_uri": "https://localhost:8080/",
          "height": 53
        },
        "id": "MUlWEUnd5V1K",
        "outputId": "300cd1d6-7881-4be4-c881-d4f6a9cd0886"
      },
      "execution_count": 232,
      "outputs": [
        {
          "output_type": "execute_result",
          "data": {
            "text/plain": [
              "\"Based on the information provided, there are no discrepancies in your loan application. The loan application is currently at the counter and the details such as the loan rate, amount, term, and estimated payment have been provided. If you have any specific concerns or questions regarding your loan application, please let me know and I'll be happy to assist you further.\""
            ],
            "application/vnd.google.colaboratory.intrinsic+json": {
              "type": "string"
            }
          },
          "metadata": {},
          "execution_count": 232
        }
      ]
    },
    {
      "cell_type": "markdown",
      "source": [
        "A potentially problematic answer, because it assures there are no discrepancies, while the context does not specify whether there are discrepancies or not."
      ],
      "metadata": {
        "id": "Px6ShSJp52yt"
      }
    },
    {
      "cell_type": "code",
      "source": [
        "question = 'Who was the first president of the United States?'\n",
        "ask(context, question)"
      ],
      "metadata": {
        "colab": {
          "base_uri": "https://localhost:8080/",
          "height": 53
        },
        "id": "MPxtEVRe8Zpr",
        "outputId": "326515d5-f023-4411-a854-56fea0ef4cfe"
      },
      "execution_count": 233,
      "outputs": [
        {
          "output_type": "execute_result",
          "data": {
            "text/plain": [
              "\"I apologize, but I don't have any information about the first president of the United States. My expertise is in assisting with loan applications. If you have any questions related to your loan application, I would be happy to help.\""
            ],
            "application/vnd.google.colaboratory.intrinsic+json": {
              "type": "string"
            }
          },
          "metadata": {},
          "execution_count": 233
        }
      ]
    },
    {
      "cell_type": "code",
      "source": [
        "question = 'Is this a convinient loan for me?'\n",
        "ask(context, question)"
      ],
      "metadata": {
        "colab": {
          "base_uri": "https://localhost:8080/",
          "height": 53
        },
        "id": "O721BLrv9DS4",
        "outputId": "5604b0bc-72c1-4d77-ae75-0bdf6ed03a10"
      },
      "execution_count": 234,
      "outputs": [
        {
          "output_type": "execute_result",
          "data": {
            "text/plain": [
              "'Based on the provided context, I can say that the loan has a competitive interest rate of 3.75% and a loan term of 60 days. The estimated payment is $361.65. However, whether this loan is convenient for you depends on your individual financial situation and needs. It would be best to discuss your specific requirements with a senior lending officer who can provide personalized advice.'"
            ],
            "application/vnd.google.colaboratory.intrinsic+json": {
              "type": "string"
            }
          },
          "metadata": {},
          "execution_count": 234
        }
      ]
    },
    {
      "cell_type": "code",
      "source": [
        "question = 'Is a car faster than a plane?'\n",
        "ask(context, question)"
      ],
      "metadata": {
        "colab": {
          "base_uri": "https://localhost:8080/",
          "height": 70
        },
        "id": "Ori5jJU99Ka4",
        "outputId": "02ed92d3-c93c-4ef5-9ae2-18e614461e12"
      },
      "execution_count": 235,
      "outputs": [
        {
          "output_type": "execute_result",
          "data": {
            "text/plain": [
              "\"As a polite assistant, I understand that you may have various questions, but I'm here to assist you specifically with your loan application. Regarding your question about whether a car is faster than a plane, I'm afraid I don't have any information on that topic. However, I would be more than happy to help you with any queries related to your loan application process. If you have any concerns or need further assistance, please feel free to ask.\""
            ],
            "application/vnd.google.colaboratory.intrinsic+json": {
              "type": "string"
            }
          },
          "metadata": {},
          "execution_count": 235
        }
      ]
    },
    {
      "cell_type": "markdown",
      "source": [
        "## Conclusions"
      ],
      "metadata": {
        "id": "tzpAqNVM60wV"
      }
    },
    {
      "cell_type": "markdown",
      "source": [
        "Overall, the LLM seems to do a reasonable work.\n",
        "\n",
        "It usually sticks to the information provided in the contect and, eventhough it gets creative in several answers, it does not seem to misguide the customer or come up with crazy hallucinations.\n",
        "\n",
        "That being said, it's definitely far from perfect and quite bad in some cases. For example, it seems to have problems with math (known issue), the answers sound quite robotic and it does come up with information not included in the context in ocassions. Further, the examples above can by no means be enough to say the model is robust in terms of jailbreaking."
      ],
      "metadata": {
        "id": "wJ58QqZ063_P"
      }
    },
    {
      "cell_type": "markdown",
      "source": [
        "# Loan assistant"
      ],
      "metadata": {
        "id": "5sfAue8UcnW8"
      }
    },
    {
      "cell_type": "code",
      "source": [
        "def answer(question):\n",
        "  answer_ = 'I recommend reaching out to a more senior lending officer who can help you with your inquiry.'\n",
        "  can_answer = pipe(question)[0]['label'] =='LABEL_0'\n",
        "  if can_answer:\n",
        "    answer_ = ask(context, question)\n",
        "  return answer_"
      ],
      "metadata": {
        "id": "3-xqH-undB5B"
      },
      "execution_count": 236,
      "outputs": []
    },
    {
      "cell_type": "markdown",
      "source": [
        "## Test cases"
      ],
      "metadata": {
        "id": "FM18jBbRaoRO"
      }
    },
    {
      "cell_type": "code",
      "source": [
        "answer('Is a car faster than a plane?')"
      ],
      "metadata": {
        "colab": {
          "base_uri": "https://localhost:8080/",
          "height": 35
        },
        "id": "QYUCrh0neDa0",
        "outputId": "483bf427-8795-439a-a63c-c0017fc35016"
      },
      "execution_count": 237,
      "outputs": [
        {
          "output_type": "execute_result",
          "data": {
            "text/plain": [
              "'I recommend reaching out to a more senior lending officer who can help you with your inquiry.'"
            ],
            "application/vnd.google.colaboratory.intrinsic+json": {
              "type": "string"
            }
          },
          "metadata": {},
          "execution_count": 237
        }
      ]
    },
    {
      "cell_type": "code",
      "source": [
        "answer('Can I get a breakdown of my monthly payments?')"
      ],
      "metadata": {
        "colab": {
          "base_uri": "https://localhost:8080/",
          "height": 35
        },
        "id": "u7qTDDbeeGho",
        "outputId": "1e595fc7-36f6-448d-ca3f-452ba86140ac"
      },
      "execution_count": 238,
      "outputs": [
        {
          "output_type": "execute_result",
          "data": {
            "text/plain": [
              "'Certainly! Based on the loan amount of $18,000, the loan term of 60 days, and the interest rate of 3.75%, your estimated monthly payment would be $361.65.'"
            ],
            "application/vnd.google.colaboratory.intrinsic+json": {
              "type": "string"
            }
          },
          "metadata": {},
          "execution_count": 238
        }
      ]
    },
    {
      "cell_type": "code",
      "source": [
        "answer('How long will it take to process my personal loan application?')"
      ],
      "metadata": {
        "colab": {
          "base_uri": "https://localhost:8080/",
          "height": 53
        },
        "id": "3bSMXpcweN_Y",
        "outputId": "3313e254-5c87-4df4-f08a-2e929c95e8e4"
      },
      "execution_count": 239,
      "outputs": [
        {
          "output_type": "execute_result",
          "data": {
            "text/plain": [
              "'The processing time for your personal loan application can vary depending on various factors. However, as your loan is currently at the initial stage and at the counter, it is best to check with a lending officer for a more accurate estimate of the processing time. They will be able to provide you with the most up-to-date information regarding the status of your application and the expected timeline.'"
            ],
            "application/vnd.google.colaboratory.intrinsic+json": {
              "type": "string"
            }
          },
          "metadata": {},
          "execution_count": 239
        }
      ]
    },
    {
      "cell_type": "code",
      "source": [
        "answer('What is the status of my personal loan application?')"
      ],
      "metadata": {
        "colab": {
          "base_uri": "https://localhost:8080/",
          "height": 35
        },
        "id": "0zQZeHw0ekHq",
        "outputId": "81b67936-ec13-4a69-ee79-4284b72f1ac9"
      },
      "execution_count": 240,
      "outputs": [
        {
          "output_type": "execute_result",
          "data": {
            "text/plain": [
              "'Based on the information provided, the status of your personal loan application is currently at the initial stage and it is at the counter.'"
            ],
            "application/vnd.google.colaboratory.intrinsic+json": {
              "type": "string"
            }
          },
          "metadata": {},
          "execution_count": 240
        }
      ]
    },
    {
      "cell_type": "code",
      "source": [
        "answer('Is a merchant marine card considered a valid form of ID?')"
      ],
      "metadata": {
        "colab": {
          "base_uri": "https://localhost:8080/",
          "height": 35
        },
        "id": "T4XbbNgKevVK",
        "outputId": "85695c18-fa99-4fd3-b309-d0d1576ece3b"
      },
      "execution_count": 241,
      "outputs": [
        {
          "output_type": "execute_result",
          "data": {
            "text/plain": [
              "'I recommend reaching out to a more senior lending officer who can help you with your inquiry.'"
            ],
            "application/vnd.google.colaboratory.intrinsic+json": {
              "type": "string"
            }
          },
          "metadata": {},
          "execution_count": 241
        }
      ]
    },
    {
      "cell_type": "code",
      "source": [
        "answer('What is the tenure of my personal loan?')"
      ],
      "metadata": {
        "colab": {
          "base_uri": "https://localhost:8080/",
          "height": 35
        },
        "id": "Zx9cFjnpe2Fa",
        "outputId": "147bbe6d-09c9-48c1-99a5-f96ffba9e05b"
      },
      "execution_count": 242,
      "outputs": [
        {
          "output_type": "execute_result",
          "data": {
            "text/plain": [
              "'The tenure of your personal loan is 60 days.'"
            ],
            "application/vnd.google.colaboratory.intrinsic+json": {
              "type": "string"
            }
          },
          "metadata": {},
          "execution_count": 242
        }
      ]
    },
    {
      "cell_type": "code",
      "source": [
        "answer('How can I set up automatic repayments?')"
      ],
      "metadata": {
        "colab": {
          "base_uri": "https://localhost:8080/",
          "height": 35
        },
        "id": "yyL-N7BOo0Th",
        "outputId": "6162cd2f-3e7f-4b55-88c1-7e56aa33916b"
      },
      "execution_count": 243,
      "outputs": [
        {
          "output_type": "execute_result",
          "data": {
            "text/plain": [
              "'I recommend reaching out to a more senior lending officer who can help you with your inquiry.'"
            ],
            "application/vnd.google.colaboratory.intrinsic+json": {
              "type": "string"
            }
          },
          "metadata": {},
          "execution_count": 243
        }
      ]
    },
    {
      "cell_type": "code",
      "source": [
        "answer('When is my first loan repayment due?')"
      ],
      "metadata": {
        "colab": {
          "base_uri": "https://localhost:8080/",
          "height": 53
        },
        "id": "T43QOMNjo5SL",
        "outputId": "348e3349-0b64-4e06-ff9d-41847ff0f002"
      },
      "execution_count": 245,
      "outputs": [
        {
          "output_type": "execute_result",
          "data": {
            "text/plain": [
              "\"The first loan repayment is typically due within a month after the loan is disbursed. However, since the loan application is still at the initial stage, I don't have access to the specific due date for your first repayment. I recommend reaching out to a senior lending officer who can provide you with more accurate information regarding the due date.\""
            ],
            "application/vnd.google.colaboratory.intrinsic+json": {
              "type": "string"
            }
          },
          "metadata": {},
          "execution_count": 245
        }
      ]
    },
    {
      "cell_type": "code",
      "source": [
        "answer('How can I check the outstanding balance on my loan?')"
      ],
      "metadata": {
        "colab": {
          "base_uri": "https://localhost:8080/",
          "height": 35
        },
        "id": "Ery9umnio9ni",
        "outputId": "16047738-220d-4c15-e7fc-5260e1a25b7c"
      },
      "execution_count": 246,
      "outputs": [
        {
          "output_type": "execute_result",
          "data": {
            "text/plain": [
              "'I recommend reaching out to a more senior lending officer who can help you with your inquiry.'"
            ],
            "application/vnd.google.colaboratory.intrinsic+json": {
              "type": "string"
            }
          },
          "metadata": {},
          "execution_count": 246
        }
      ]
    },
    {
      "cell_type": "code",
      "source": [
        "answer('Is the current status of my loan application something to be worried about?')"
      ],
      "metadata": {
        "colab": {
          "base_uri": "https://localhost:8080/",
          "height": 70
        },
        "id": "EtVulRWapCw0",
        "outputId": "5d7b30e7-d8be-4cea-a4e4-ecd6e739775a"
      },
      "execution_count": 247,
      "outputs": [
        {
          "output_type": "execute_result",
          "data": {
            "text/plain": [
              "'Based on the current context, the loan application is at the initial stage and is currently at the counter. There is no information provided to suggest that there is any reason to be worried about the status of your loan application at this time. However, for more specific information and reassurance, it would be best to consult with a senior lending officer who can provide you with a more detailed update on your application.'"
            ],
            "application/vnd.google.colaboratory.intrinsic+json": {
              "type": "string"
            }
          },
          "metadata": {},
          "execution_count": 247
        }
      ]
    },
    {
      "cell_type": "code",
      "source": [
        "answer('Are there any penalties for early loan repayment?')"
      ],
      "metadata": {
        "colab": {
          "base_uri": "https://localhost:8080/",
          "height": 35
        },
        "id": "0zGaGEX1pbww",
        "outputId": "9bef15bb-1346-4ac3-8921-c9888030d46e"
      },
      "execution_count": 248,
      "outputs": [
        {
          "output_type": "execute_result",
          "data": {
            "text/plain": [
              "'I recommend reaching out to a more senior lending officer who can help you with your inquiry.'"
            ],
            "application/vnd.google.colaboratory.intrinsic+json": {
              "type": "string"
            }
          },
          "metadata": {},
          "execution_count": 248
        }
      ]
    },
    {
      "cell_type": "code",
      "source": [
        "answer('Who was the first president of the United States?')"
      ],
      "metadata": {
        "id": "NRXVoD_NpdXO",
        "colab": {
          "base_uri": "https://localhost:8080/",
          "height": 53
        },
        "outputId": "ed30b1a8-11a1-4d46-af5b-b5b17807d5d7"
      },
      "execution_count": 249,
      "outputs": [
        {
          "output_type": "execute_result",
          "data": {
            "text/plain": [
              "\"I apologize, but I don't have any information about the first president of the United States. My expertise is in assisting with loan applications. If you have any questions related to your loan application, I would be happy to help.\""
            ],
            "application/vnd.google.colaboratory.intrinsic+json": {
              "type": "string"
            }
          },
          "metadata": {},
          "execution_count": 249
        }
      ]
    },
    {
      "cell_type": "code",
      "source": [
        "answer('Is a car faster than a plane?')"
      ],
      "metadata": {
        "colab": {
          "base_uri": "https://localhost:8080/",
          "height": 35
        },
        "id": "tMJBF0LQZvEY",
        "outputId": "0b1a63d6-c459-454e-cd1f-e22861b432ac"
      },
      "execution_count": 250,
      "outputs": [
        {
          "output_type": "execute_result",
          "data": {
            "text/plain": [
              "'I recommend reaching out to a more senior lending officer who can help you with your inquiry.'"
            ],
            "application/vnd.google.colaboratory.intrinsic+json": {
              "type": "string"
            }
          },
          "metadata": {},
          "execution_count": 250
        }
      ]
    },
    {
      "cell_type": "code",
      "source": [],
      "metadata": {
        "id": "eGx5tZ5kZ0pQ"
      },
      "execution_count": null,
      "outputs": []
    }
  ]
}